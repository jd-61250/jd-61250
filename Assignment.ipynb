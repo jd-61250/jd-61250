{
  "nbformat": 4,
  "nbformat_minor": 0,
  "metadata": {
    "colab": {
      "name": "Assignment.ipynb",
      "provenance": [],
      "collapsed_sections": [],
      "include_colab_link": true
    },
    "kernelspec": {
      "name": "python3",
      "display_name": "Python 3"
    },
    "language_info": {
      "name": "python"
    }
  },
  "cells": [
    {
      "cell_type": "markdown",
      "metadata": {
        "id": "view-in-github",
        "colab_type": "text"
      },
      "source": [
        "<a href=\"https://colab.research.google.com/github/jd-61250/jd-61250/blob/main/Assignment.ipynb\" target=\"_parent\"><img src=\"https://colab.research.google.com/assets/colab-badge.svg\" alt=\"Open In Colab\"/></a>"
      ]
    },
    {
      "cell_type": "code",
      "execution_count": null,
      "metadata": {
        "id": "UOQ1fY0T9kWR"
      },
      "outputs": [],
      "source": [
        "import pandas as pd"
      ]
    },
    {
      "cell_type": "code",
      "source": [
        "data = pd.read_csv('/content/data.csv')"
      ],
      "metadata": {
        "id": "keQ9L8Sd-hlL"
      },
      "execution_count": null,
      "outputs": []
    },
    {
      "cell_type": "code",
      "source": [
        "data.head()"
      ],
      "metadata": {
        "colab": {
          "base_uri": "https://localhost:8080/",
          "height": 317
        },
        "id": "hFYjubBm-tY7",
        "outputId": "047ef012-bcc6-421d-b0ff-7b696a54ddcd"
      },
      "execution_count": null,
      "outputs": [
        {
          "output_type": "execute_result",
          "data": {
            "text/plain": [
              "  Country Name     1960     1961     1962     1963     1964     1965  \\\n",
              "0        Aruba    54208    55434    56234    56699    57029    57357   \n",
              "1  Afghanistan  8996967  9169406  9351442  9543200  9744772  9956318   \n",
              "2       Angola  5454938  5531451  5608499  5679409  5734995  5770573   \n",
              "3      Albania  1608800  1659800  1711319  1762621  1814135  1864791   \n",
              "4      Andorra    13410    14378    15379    16407    17466    18542   \n",
              "\n",
              "       1966      1967      1968  ...      2011        2012        2013  \\\n",
              "0     57702     58044     58377  ...    102050    102565.0    103165.0   \n",
              "1  10174840  10399936  10637064  ...  30117411  31161378.0  32269592.0   \n",
              "2   5781305   5774440   5771973  ...  24220660  25107925.0  26015786.0   \n",
              "3   1914573   1965598   2022272  ...   2905195   2900401.0   2895092.0   \n",
              "4     19646     20760     21886  ...     83748     82427.0     80770.0   \n",
              "\n",
              "         2014        2015        2016        2017        2018        2019  \\\n",
              "0    103776.0    104339.0    104865.0    105361.0    105846.0    106310.0   \n",
              "1  33370804.0  34413603.0  35383028.0  36296111.0  37171922.0  38041757.0   \n",
              "2  26941773.0  27884380.0  28842482.0  29816769.0  30809787.0  31825299.0   \n",
              "3   2889104.0   2880703.0   2876101.0   2873457.0   2866376.0   2854191.0   \n",
              "4     79213.0     77993.0     77295.0     76997.0     77008.0     77146.0   \n",
              "\n",
              "         2020  \n",
              "0    106766.0  \n",
              "1  38928341.0  \n",
              "2  32866268.0  \n",
              "3   2837849.0  \n",
              "4     77265.0  \n",
              "\n",
              "[5 rows x 62 columns]"
            ],
            "text/html": [
              "\n",
              "  <div id=\"df-ea600a02-2e34-4eef-9906-2262f7fb18ee\">\n",
              "    <div class=\"colab-df-container\">\n",
              "      <div>\n",
              "<style scoped>\n",
              "    .dataframe tbody tr th:only-of-type {\n",
              "        vertical-align: middle;\n",
              "    }\n",
              "\n",
              "    .dataframe tbody tr th {\n",
              "        vertical-align: top;\n",
              "    }\n",
              "\n",
              "    .dataframe thead th {\n",
              "        text-align: right;\n",
              "    }\n",
              "</style>\n",
              "<table border=\"1\" class=\"dataframe\">\n",
              "  <thead>\n",
              "    <tr style=\"text-align: right;\">\n",
              "      <th></th>\n",
              "      <th>Country Name</th>\n",
              "      <th>1960</th>\n",
              "      <th>1961</th>\n",
              "      <th>1962</th>\n",
              "      <th>1963</th>\n",
              "      <th>1964</th>\n",
              "      <th>1965</th>\n",
              "      <th>1966</th>\n",
              "      <th>1967</th>\n",
              "      <th>1968</th>\n",
              "      <th>...</th>\n",
              "      <th>2011</th>\n",
              "      <th>2012</th>\n",
              "      <th>2013</th>\n",
              "      <th>2014</th>\n",
              "      <th>2015</th>\n",
              "      <th>2016</th>\n",
              "      <th>2017</th>\n",
              "      <th>2018</th>\n",
              "      <th>2019</th>\n",
              "      <th>2020</th>\n",
              "    </tr>\n",
              "  </thead>\n",
              "  <tbody>\n",
              "    <tr>\n",
              "      <th>0</th>\n",
              "      <td>Aruba</td>\n",
              "      <td>54208</td>\n",
              "      <td>55434</td>\n",
              "      <td>56234</td>\n",
              "      <td>56699</td>\n",
              "      <td>57029</td>\n",
              "      <td>57357</td>\n",
              "      <td>57702</td>\n",
              "      <td>58044</td>\n",
              "      <td>58377</td>\n",
              "      <td>...</td>\n",
              "      <td>102050</td>\n",
              "      <td>102565.0</td>\n",
              "      <td>103165.0</td>\n",
              "      <td>103776.0</td>\n",
              "      <td>104339.0</td>\n",
              "      <td>104865.0</td>\n",
              "      <td>105361.0</td>\n",
              "      <td>105846.0</td>\n",
              "      <td>106310.0</td>\n",
              "      <td>106766.0</td>\n",
              "    </tr>\n",
              "    <tr>\n",
              "      <th>1</th>\n",
              "      <td>Afghanistan</td>\n",
              "      <td>8996967</td>\n",
              "      <td>9169406</td>\n",
              "      <td>9351442</td>\n",
              "      <td>9543200</td>\n",
              "      <td>9744772</td>\n",
              "      <td>9956318</td>\n",
              "      <td>10174840</td>\n",
              "      <td>10399936</td>\n",
              "      <td>10637064</td>\n",
              "      <td>...</td>\n",
              "      <td>30117411</td>\n",
              "      <td>31161378.0</td>\n",
              "      <td>32269592.0</td>\n",
              "      <td>33370804.0</td>\n",
              "      <td>34413603.0</td>\n",
              "      <td>35383028.0</td>\n",
              "      <td>36296111.0</td>\n",
              "      <td>37171922.0</td>\n",
              "      <td>38041757.0</td>\n",
              "      <td>38928341.0</td>\n",
              "    </tr>\n",
              "    <tr>\n",
              "      <th>2</th>\n",
              "      <td>Angola</td>\n",
              "      <td>5454938</td>\n",
              "      <td>5531451</td>\n",
              "      <td>5608499</td>\n",
              "      <td>5679409</td>\n",
              "      <td>5734995</td>\n",
              "      <td>5770573</td>\n",
              "      <td>5781305</td>\n",
              "      <td>5774440</td>\n",
              "      <td>5771973</td>\n",
              "      <td>...</td>\n",
              "      <td>24220660</td>\n",
              "      <td>25107925.0</td>\n",
              "      <td>26015786.0</td>\n",
              "      <td>26941773.0</td>\n",
              "      <td>27884380.0</td>\n",
              "      <td>28842482.0</td>\n",
              "      <td>29816769.0</td>\n",
              "      <td>30809787.0</td>\n",
              "      <td>31825299.0</td>\n",
              "      <td>32866268.0</td>\n",
              "    </tr>\n",
              "    <tr>\n",
              "      <th>3</th>\n",
              "      <td>Albania</td>\n",
              "      <td>1608800</td>\n",
              "      <td>1659800</td>\n",
              "      <td>1711319</td>\n",
              "      <td>1762621</td>\n",
              "      <td>1814135</td>\n",
              "      <td>1864791</td>\n",
              "      <td>1914573</td>\n",
              "      <td>1965598</td>\n",
              "      <td>2022272</td>\n",
              "      <td>...</td>\n",
              "      <td>2905195</td>\n",
              "      <td>2900401.0</td>\n",
              "      <td>2895092.0</td>\n",
              "      <td>2889104.0</td>\n",
              "      <td>2880703.0</td>\n",
              "      <td>2876101.0</td>\n",
              "      <td>2873457.0</td>\n",
              "      <td>2866376.0</td>\n",
              "      <td>2854191.0</td>\n",
              "      <td>2837849.0</td>\n",
              "    </tr>\n",
              "    <tr>\n",
              "      <th>4</th>\n",
              "      <td>Andorra</td>\n",
              "      <td>13410</td>\n",
              "      <td>14378</td>\n",
              "      <td>15379</td>\n",
              "      <td>16407</td>\n",
              "      <td>17466</td>\n",
              "      <td>18542</td>\n",
              "      <td>19646</td>\n",
              "      <td>20760</td>\n",
              "      <td>21886</td>\n",
              "      <td>...</td>\n",
              "      <td>83748</td>\n",
              "      <td>82427.0</td>\n",
              "      <td>80770.0</td>\n",
              "      <td>79213.0</td>\n",
              "      <td>77993.0</td>\n",
              "      <td>77295.0</td>\n",
              "      <td>76997.0</td>\n",
              "      <td>77008.0</td>\n",
              "      <td>77146.0</td>\n",
              "      <td>77265.0</td>\n",
              "    </tr>\n",
              "  </tbody>\n",
              "</table>\n",
              "<p>5 rows × 62 columns</p>\n",
              "</div>\n",
              "      <button class=\"colab-df-convert\" onclick=\"convertToInteractive('df-ea600a02-2e34-4eef-9906-2262f7fb18ee')\"\n",
              "              title=\"Convert this dataframe to an interactive table.\"\n",
              "              style=\"display:none;\">\n",
              "        \n",
              "  <svg xmlns=\"http://www.w3.org/2000/svg\" height=\"24px\"viewBox=\"0 0 24 24\"\n",
              "       width=\"24px\">\n",
              "    <path d=\"M0 0h24v24H0V0z\" fill=\"none\"/>\n",
              "    <path d=\"M18.56 5.44l.94 2.06.94-2.06 2.06-.94-2.06-.94-.94-2.06-.94 2.06-2.06.94zm-11 1L8.5 8.5l.94-2.06 2.06-.94-2.06-.94L8.5 2.5l-.94 2.06-2.06.94zm10 10l.94 2.06.94-2.06 2.06-.94-2.06-.94-.94-2.06-.94 2.06-2.06.94z\"/><path d=\"M17.41 7.96l-1.37-1.37c-.4-.4-.92-.59-1.43-.59-.52 0-1.04.2-1.43.59L10.3 9.45l-7.72 7.72c-.78.78-.78 2.05 0 2.83L4 21.41c.39.39.9.59 1.41.59.51 0 1.02-.2 1.41-.59l7.78-7.78 2.81-2.81c.8-.78.8-2.07 0-2.86zM5.41 20L4 18.59l7.72-7.72 1.47 1.35L5.41 20z\"/>\n",
              "  </svg>\n",
              "      </button>\n",
              "      \n",
              "  <style>\n",
              "    .colab-df-container {\n",
              "      display:flex;\n",
              "      flex-wrap:wrap;\n",
              "      gap: 12px;\n",
              "    }\n",
              "\n",
              "    .colab-df-convert {\n",
              "      background-color: #E8F0FE;\n",
              "      border: none;\n",
              "      border-radius: 50%;\n",
              "      cursor: pointer;\n",
              "      display: none;\n",
              "      fill: #1967D2;\n",
              "      height: 32px;\n",
              "      padding: 0 0 0 0;\n",
              "      width: 32px;\n",
              "    }\n",
              "\n",
              "    .colab-df-convert:hover {\n",
              "      background-color: #E2EBFA;\n",
              "      box-shadow: 0px 1px 2px rgba(60, 64, 67, 0.3), 0px 1px 3px 1px rgba(60, 64, 67, 0.15);\n",
              "      fill: #174EA6;\n",
              "    }\n",
              "\n",
              "    [theme=dark] .colab-df-convert {\n",
              "      background-color: #3B4455;\n",
              "      fill: #D2E3FC;\n",
              "    }\n",
              "\n",
              "    [theme=dark] .colab-df-convert:hover {\n",
              "      background-color: #434B5C;\n",
              "      box-shadow: 0px 1px 3px 1px rgba(0, 0, 0, 0.15);\n",
              "      filter: drop-shadow(0px 1px 2px rgba(0, 0, 0, 0.3));\n",
              "      fill: #FFFFFF;\n",
              "    }\n",
              "  </style>\n",
              "\n",
              "      <script>\n",
              "        const buttonEl =\n",
              "          document.querySelector('#df-ea600a02-2e34-4eef-9906-2262f7fb18ee button.colab-df-convert');\n",
              "        buttonEl.style.display =\n",
              "          google.colab.kernel.accessAllowed ? 'block' : 'none';\n",
              "\n",
              "        async function convertToInteractive(key) {\n",
              "          const element = document.querySelector('#df-ea600a02-2e34-4eef-9906-2262f7fb18ee');\n",
              "          const dataTable =\n",
              "            await google.colab.kernel.invokeFunction('convertToInteractive',\n",
              "                                                     [key], {});\n",
              "          if (!dataTable) return;\n",
              "\n",
              "          const docLinkHtml = 'Like what you see? Visit the ' +\n",
              "            '<a target=\"_blank\" href=https://colab.research.google.com/notebooks/data_table.ipynb>data table notebook</a>'\n",
              "            + ' to learn more about interactive tables.';\n",
              "          element.innerHTML = '';\n",
              "          dataTable['output_type'] = 'display_data';\n",
              "          await google.colab.output.renderOutput(dataTable, element);\n",
              "          const docLink = document.createElement('div');\n",
              "          docLink.innerHTML = docLinkHtml;\n",
              "          element.appendChild(docLink);\n",
              "        }\n",
              "      </script>\n",
              "    </div>\n",
              "  </div>\n",
              "  "
            ]
          },
          "metadata": {},
          "execution_count": 7
        }
      ]
    },
    {
      "cell_type": "code",
      "source": [
        "val = input('Enter Year: ')\n",
        "x = max(data[val])\n",
        "y = min(data[val])\n",
        "#print(x)\n",
        "#print(y)\n",
        "t= 0\n",
        "s=0\n",
        "for col in data[val]:\n",
        "  if(col != x):\n",
        "    t = t+1\n",
        "  else:\n",
        "    break\n",
        "\n",
        "for col in data[val]:\n",
        "  if(col != y):\n",
        "    s = s+1\n",
        "  else:\n",
        "    break\n",
        "\n",
        "#print(t)\n",
        "first_column = data.iloc[:, 0]\n",
        "print(\"Highest Population:\",first_column[t])\n",
        "print(\"Lowest Population: \",first_column[s])\n",
        "  \n",
        "\n"
      ],
      "metadata": {
        "colab": {
          "base_uri": "https://localhost:8080/"
        },
        "id": "g4sKpMo8-vnE",
        "outputId": "f179587a-c7a2-41eb-9b29-b17099e9d24e"
      },
      "execution_count": null,
      "outputs": [
        {
          "output_type": "stream",
          "name": "stdout",
          "text": [
            "Enter Year: 1960\n",
            "Highest Population: Middle income\n",
            "Lowest Population:  Sint Maarten (Dutch part)\n"
          ]
        }
      ]
    },
    {
      "cell_type": "code",
      "source": [
        "def min_max_population(year):\n",
        "  val=year\n",
        "  x = max(data[val])\n",
        "  y = min(data[val])\n",
        "  #print(x)\n",
        "  #print(y)\n",
        "  t= 0\n",
        "  s=0\n",
        "  for col in data[val]:\n",
        "    if(col != x):\n",
        "      t = t+1\n",
        "    else:\n",
        "      break\n",
        "  for col in data[val]:\n",
        "    if(col != y):\n",
        "      s = s+1\n",
        "    else:\n",
        "      break\n",
        "\n",
        "  #print(t)\n",
        "  first_column = data.iloc[:, 0]\n",
        "  print(\"Highest Population: \",first_column[t])\n",
        "  print(\"Lowest Population: \",first_column[s])\n",
        "  #j = first_column[t]\n",
        "  #k = first_column[s]\n",
        "  #return [j,k]\n",
        "\n"
      ],
      "metadata": {
        "id": "IsoF-JeiC2HG"
      },
      "execution_count": null,
      "outputs": []
    },
    {
      "cell_type": "code",
      "source": [
        "data['gp'] =100* (data['2000']- data['1960'])/data['1960']\n",
        "data.head()\n",
        "x = max(data['gp'])\n",
        "y = min(data['gp'])\n",
        "\n",
        "m= 0\n",
        "n=0\n",
        "for col in data['gp']:\n",
        "  if(col != x):\n",
        "    m = m+1\n",
        "  else:\n",
        "    break\n",
        "for col in data['gp']:\n",
        "  if(col != y):\n",
        "    n = n+1\n",
        "  else:\n",
        "    break\n",
        "#print(t)\n",
        "first_column = data.iloc[:, 0]\n",
        "print(\"Highest Population Growth Percentage: \",first_column[m])\n",
        "print(\"Lowest Population Growth Percentage: \",first_column[n])\n",
        "\n",
        "\n",
        "\n",
        "  \n",
        "\n",
        "  \n",
        "\n"
      ],
      "metadata": {
        "colab": {
          "base_uri": "https://localhost:8080/"
        },
        "id": "AMOz7ExsDN-N",
        "outputId": "fb01eb3c-7d93-4ec0-dc85-a906a873ac18"
      },
      "execution_count": null,
      "outputs": [
        {
          "output_type": "stream",
          "name": "stdout",
          "text": [
            "Highest Population Growth Percentage:  United Arab Emirates\n",
            "Lowest Population Growth Percentage:  St. Kitts and Nevis\n"
          ]
        }
      ]
    },
    {
      "cell_type": "code",
      "source": [
        "def growth_percent(year1,year2):\n",
        "  data['gp'] =100* (data[year2]- data[year1])/data[year1]\n",
        "  data.head()\n",
        "  x = max(data['gp'])\n",
        "  y = min(data['gp'])\n",
        "\n",
        "  m= 0\n",
        "  n=0\n",
        "  for col in data['gp']:\n",
        "    if(col != x):\n",
        "      m = m+1\n",
        "    else:\n",
        "      break\n",
        "  for col in data['gp']:\n",
        "    if(col != y):\n",
        "      n = n+1\n",
        "    else:\n",
        "      break\n",
        "  #print(t)\n",
        "  first_column = data.iloc[:, 0]\n",
        "  print(\"Highest Population Growth Percentage: \",first_column[m])\n",
        "  print(\"Lowest Population Growth Percentage: \",first_column[n])\n"
      ],
      "metadata": {
        "id": "rcRoBhqwFnTl"
      },
      "execution_count": null,
      "outputs": []
    },
    {
      "cell_type": "code",
      "source": [
        "growth_percent(\"1960\",\"2000\")"
      ],
      "metadata": {
        "colab": {
          "base_uri": "https://localhost:8080/"
        },
        "id": "zzJxeMknFxk9",
        "outputId": "c787cb0b-edf3-44d4-91e5-30afa75a813b"
      },
      "execution_count": null,
      "outputs": [
        {
          "output_type": "stream",
          "name": "stdout",
          "text": [
            "Highest Population Growth Percentage:  United Arab Emirates\n",
            "Lowest Population Growth Percentage:  St. Kitts and Nevis\n"
          ]
        }
      ]
    },
    {
      "cell_type": "code",
      "source": [
        "#5th questions was not completed\n",
        "\n"
      ],
      "metadata": {
        "colab": {
          "base_uri": "https://localhost:8080/",
          "height": 269
        },
        "id": "Y6OMWvthvCjK",
        "outputId": "ecd03acf-ccd9-472d-9616-63aefea6c4de"
      },
      "execution_count": null,
      "outputs": [
        {
          "name": "stdout",
          "output_type": "stream",
          "text": [
            "Enter Country NameAruba\n",
            "Enter number of years3\n"
          ]
        },
        {
          "output_type": "error",
          "ename": "TypeError",
          "evalue": "ignored",
          "traceback": [
            "\u001b[0;31m---------------------------------------------------------------------------\u001b[0m",
            "\u001b[0;31mTypeError\u001b[0m                                 Traceback (most recent call last)",
            "\u001b[0;32m<ipython-input-82-ab2b2ec6ad31>\u001b[0m in \u001b[0;36m<module>\u001b[0;34m()\u001b[0m\n\u001b[1;32m      5\u001b[0m \u001b[0myear2\u001b[0m \u001b[0;34m=\u001b[0m \u001b[0;34m\"1995\"\u001b[0m\u001b[0;34m\u001b[0m\u001b[0;34m\u001b[0m\u001b[0m\n\u001b[1;32m      6\u001b[0m \u001b[0mgp\u001b[0m \u001b[0;34m=\u001b[0m\u001b[0;36m0\u001b[0m\u001b[0;34m\u001b[0m\u001b[0;34m\u001b[0m\u001b[0m\n\u001b[0;32m----> 7\u001b[0;31m \u001b[0;32mfor\u001b[0m \u001b[0mi\u001b[0m \u001b[0;32min\u001b[0m \u001b[0mrange\u001b[0m\u001b[0;34m(\u001b[0m\u001b[0mdata\u001b[0m\u001b[0;34m[\u001b[0m\u001b[0myear1\u001b[0m\u001b[0;34m]\u001b[0m\u001b[0;34m,\u001b[0m\u001b[0mdata\u001b[0m\u001b[0;34m[\u001b[0m\u001b[0myear2\u001b[0m\u001b[0;34m]\u001b[0m\u001b[0;34m)\u001b[0m\u001b[0;34m:\u001b[0m\u001b[0;34m\u001b[0m\u001b[0;34m\u001b[0m\u001b[0m\n\u001b[0m\u001b[1;32m      8\u001b[0m   \u001b[0mgp\u001b[0m \u001b[0;34m+=\u001b[0m \u001b[0;34m(\u001b[0m\u001b[0mdata\u001b[0m\u001b[0;34m[\u001b[0m\u001b[0myear2\u001b[0m\u001b[0;34m]\u001b[0m \u001b[0;34m-\u001b[0m \u001b[0mdata\u001b[0m\u001b[0;34m[\u001b[0m\u001b[0myear1\u001b[0m\u001b[0;34m]\u001b[0m\u001b[0;34m)\u001b[0m\u001b[0;34m/\u001b[0m\u001b[0mdata\u001b[0m\u001b[0;34m[\u001b[0m\u001b[0myear2\u001b[0m\u001b[0;34m]\u001b[0m\u001b[0;34m\u001b[0m\u001b[0;34m\u001b[0m\u001b[0m\n\u001b[1;32m      9\u001b[0m \u001b[0mavg_gp_percent\u001b[0m \u001b[0;34m=\u001b[0m \u001b[0;34m(\u001b[0m\u001b[0mgp\u001b[0m\u001b[0;34m*\u001b[0m\u001b[0;36m100\u001b[0m\u001b[0;34m)\u001b[0m\u001b[0;34m/\u001b[0m\u001b[0;36m5\u001b[0m\u001b[0;34m\u001b[0m\u001b[0;34m\u001b[0m\u001b[0m\n",
            "\u001b[0;31mTypeError\u001b[0m: 'Series' object cannot be interpreted as an integer"
          ]
        }
      ]
    },
    {
      "cell_type": "code",
      "source": [
        ""
      ],
      "metadata": {
        "id": "y1bYLHgZ2-8q"
      },
      "execution_count": null,
      "outputs": []
    }
  ]
}